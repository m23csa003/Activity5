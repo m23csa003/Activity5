{
 "cells": [
  {
   "cell_type": "code",
   "execution_count": 9,
   "metadata": {},
   "outputs": [
    {
     "name": "stdout",
     "output_type": "stream",
     "text": [
      "The tensorboard extension is already loaded. To reload it, use:\n",
      "  %reload_ext tensorboard\n"
     ]
    }
   ],
   "source": [
    "%load_ext tensorboard"
   ]
  },
  {
   "cell_type": "code",
   "execution_count": 10,
   "metadata": {},
   "outputs": [],
   "source": [
    "import torch\n",
    "import torch.nn as nn\n",
    "import torch.nn.functional as F\n",
    "import torch.optim as optim\n",
    "from tqdm import tqdm\n",
    "\n",
    "class SimpleCNN(nn.Module):\n",
    "    def __init__(self,n_classes,out_channels=8):\n",
    "        super().__init__()\n",
    "        self.conv1 = nn.Conv2d(in_channels=1, out_channels=out_channels, kernel_size=3,stride=1,padding=3, padding_mode='zeros')\n",
    "        self.conv2 = nn.Conv2d(in_channels=out_channels, out_channels=16, kernel_size=3, stride=1)\n",
    "        self.conv3 = nn.Conv2d(in_channels=16, out_channels=8, kernel_size=3, stride=1)\n",
    "        self.fc1 = nn.Linear(in_features=1352,out_features=n_classes)\n",
    "        # self.fc = nn.Linear(in_features=512, out_features=n_classes)\n",
    "\n",
    "    def forward(self, x, get_features=False):\n",
    "        x = self.conv1(x)\n",
    "        x = F.relu(x)\n",
    "        x = F.max_pool2d(x,kernel_size=2,stride=1)\n",
    "\n",
    "        x = self.conv2(x)\n",
    "        x = F.relu(x)\n",
    "        x = F.max_pool2d(x,kernel_size=2,stride=1)\n",
    "\n",
    "        x = self.conv3(x)\n",
    "        x = F.relu(x)\n",
    "        x = F.avg_pool2d(x,kernel_size=2,stride=1)\n",
    "\n",
    "        x = x.flatten(start_dim=1)\n",
    "        x =self.fc1(x)\n",
    "        # x = F.relu(x)\n",
    "        # x = self.fc(x)\n",
    "        x = F.softmax(x, dim=1)\n",
    "        if get_features:\n",
    "            return x, None\n",
    "        return x\n",
    "\n",
    "\n",
    "import torch\n",
    "import torch.nn as nn\n",
    "import torch.nn.functional as F\n",
    "import torch.optim as optim\n",
    "from tqdm import tqdm\n",
    "\n",
    "\n",
    "def accuracy(output, labels):\n",
    "    _, preds = torch.max(output, dim=1)\n",
    "    return torch.tensor(torch.sum(preds == labels).item() / len(preds)).item()\n",
    "\n",
    "\n",
    "def train(\n",
    "    model,\n",
    "    train_loader,\n",
    "    valid_loader,\n",
    "    optimizer,\n",
    "    criterion,\n",
    "    device,\n",
    "    epochs=10,\n",
    "    log_writer=None,\n",
    "    verbose=True,\n",
    "    eval_metrics=[accuracy],\n",
    "):\n",
    "\n",
    "    eval_metric_names = [eval_metric.__name__ for eval_metric in eval_metrics]\n",
    "\n",
    "    history = {\n",
    "        \"train\": {\"loss\": []},\n",
    "        \"valid\": {\"loss\": []},\n",
    "    }\n",
    "    for eval_metric_name in eval_metric_names:\n",
    "        history[\"train\"][eval_metric_name] = []\n",
    "        history[\"valid\"][eval_metric_name] = []\n",
    "\n",
    "    n = len(train_loader)\n",
    "    model.to(device)\n",
    "    for epoch in range(epochs):\n",
    "        model.train()\n",
    "        Loss_epoch = 0\n",
    "        correct = {eval_metric_name: 0 for eval_metric_name in eval_metric_names}\n",
    "        total = 0\n",
    "        evaluation_train = {\n",
    "            \"loss\": 0,\n",
    "            **{eval_metric_name: 0 for eval_metric_name in eval_metric_names},\n",
    "        }\n",
    "\n",
    "        for idx, data in enumerate(tqdm(train_loader, disable=not verbose)):\n",
    "            input, labels = data[0].to(device), data[1].to(device)\n",
    "            optimizer.zero_grad()\n",
    "            output = model(input)\n",
    "            loss = criterion(output, labels)\n",
    "            loss.backward()\n",
    "            optimizer.step()\n",
    "\n",
    "            Loss_epoch += loss.item() * len(labels)\n",
    "\n",
    "            for eval_metric, eval_metric_name in zip(eval_metrics, eval_metric_names):\n",
    "                correct[eval_metric_name] += eval_metric(output, labels) * len(labels)\n",
    "            total += len(labels)\n",
    "\n",
    "        for eval_metric_name in eval_metric_names:\n",
    "            evaluation_train[eval_metric_name] = correct[eval_metric_name] / total\n",
    "\n",
    "        evaluation_train[\"loss\"] = Loss_epoch / total\n",
    "        evaluation_valid, *_ = evaluate(\n",
    "            model, valid_loader, criterion, device, eval_metrics=eval_metrics\n",
    "        )\n",
    "        if verbose:\n",
    "            print(\n",
    "                f\"epoch: {epoch}, train: {evaluation_train}, valid: {evaluation_valid}\"\n",
    "            )\n",
    "\n",
    "        for eval_metric_name in eval_metric_names:\n",
    "            history[\"train\"][eval_metric_name].append(\n",
    "                evaluation_train[eval_metric_name]\n",
    "            )\n",
    "            history[\"valid\"][eval_metric_name].append(\n",
    "                evaluation_valid[eval_metric_name]\n",
    "            )\n",
    "\n",
    "        history[\"train\"][\"loss\"].append(evaluation_train[\"loss\"])\n",
    "        history[\"valid\"][\"loss\"].append(evaluation_valid[\"loss\"])\n",
    "\n",
    "        if log_writer is not None:\n",
    "            log_dict = {}\n",
    "            for eval_metric_name in eval_metric_names:\n",
    "                log_dict.update(\n",
    "                    {\n",
    "                        f\"train/train_{eval_metric_name}\": (\n",
    "                            evaluation_train[eval_metric_name],\n",
    "                            epoch,\n",
    "                        ),\n",
    "                        f\"val/valid_{eval_metric_name}\": (\n",
    "                            evaluation_valid[eval_metric_name],\n",
    "                            epoch,\n",
    "                        ),\n",
    "                    }\n",
    "                )\n",
    "\n",
    "            log_dict.update(\n",
    "                {\n",
    "                    \"train/train_loss\": (evaluation_train[\"loss\"], epoch),\n",
    "                    \"val/valid_loss\": (evaluation_valid[\"loss\"], epoch),\n",
    "                }\n",
    "            )\n",
    "            log_writer.log(log_dict)\n",
    "\n",
    "    return history\n",
    "\n",
    "\n",
    "def evaluate(\n",
    "    model,\n",
    "    data_loader,\n",
    "    criterion,\n",
    "    device,\n",
    "    eval_metrics=[accuracy],\n",
    "    return_preds=False,\n",
    "    return_features=False,\n",
    "):\n",
    "    model.eval()\n",
    "    eval_metric_names = [eval_metric.__name__ for eval_metric in eval_metrics]\n",
    "    metrics = {eval_metric_name: [] for eval_metric_name in eval_metric_names}\n",
    "    Loss_history = []\n",
    "    PREDS = []\n",
    "    features = []\n",
    "    ground_truth = []\n",
    "    with torch.no_grad():\n",
    "        for idx, data in enumerate(data_loader):\n",
    "            input, target = data[0].to(device), data[1].to(device)\n",
    "            if return_features:\n",
    "                output, feature = model(input, get_features=True)\n",
    "                features.extend(feature.tolist())\n",
    "            output = model(input)\n",
    "            loss = criterion(output, target)\n",
    "\n",
    "            for eval_metric, eval_metric_name in zip(eval_metrics, eval_metric_names):\n",
    "                metrics[eval_metric_name].append(eval_metric(output, target))\n",
    "\n",
    "            Loss_history.append(loss.item())\n",
    "            if return_preds:\n",
    "\n",
    "                PREDS.extend(output.tolist())\n",
    "            ground_truth.extend(target.tolist())\n",
    "    return (\n",
    "        {\n",
    "            **{\n",
    "                eval_metric_name: torch.mean(\n",
    "                    torch.Tensor(metrics[eval_metric_name])\n",
    "                ).item()\n",
    "                for eval_metric_name in eval_metric_names\n",
    "            },\n",
    "            \"loss\": torch.mean(torch.Tensor(Loss_history)).item(),\n",
    "        },\n",
    "        PREDS,\n",
    "        features,\n",
    "        ground_truth,\n",
    "    )"
   ]
  },
  {
   "cell_type": "code",
   "execution_count": 11,
   "metadata": {},
   "outputs": [],
   "source": [
    "import matplotlib.pyplot as plt\n",
    "import numpy as np\n",
    "from sklearn.manifold import TSNE\n",
    "from sklearn.metrics import (\n",
    "    precision_score,\n",
    "    recall_score,\n",
    "    accuracy_score,\n",
    "    f1_score,\n",
    "    confusion_matrix,\n",
    ")\n",
    "\n",
    "\n",
    "\n",
    "\n",
    "def add_pr_curve_tensorboard(\n",
    "    class_index, classes, test_probs, test_label, writer, global_step=0\n",
    "):\n",
    "    tensorboard_truth = test_label == class_index\n",
    "    tensorboard_probs = test_probs[:, class_index]\n",
    "\n",
    "    writer.add_pr_curve(\n",
    "        classes[class_index],\n",
    "        tensorboard_truth,\n",
    "        tensorboard_probs,\n",
    "        global_step=global_step,\n",
    "    )\n",
    "\n",
    "\n",
    "def acc_pr_rec(preds, labels, classes, writer, global_step=0):\n",
    "    preds = np.array(preds)\n",
    "    labels = np.array(labels)\n",
    "    preds_ = np.argmax(preds, axis=1)\n",
    "    for i in range(len(classes)):\n",
    "        add_pr_curve_tensorboard(i, classes, preds, labels, writer, global_step)\n",
    "    writer.add_scalar(\n",
    "        \"Accuracy\", ac := accuracy_score(labels, preds_), global_step=global_step\n",
    "    )\n",
    "    writer.add_scalar(\n",
    "        \"Precision\",\n",
    "        pr := precision_score(labels, preds_, average=\"weighted\"),\n",
    "        global_step=global_step,\n",
    "    )\n",
    "    writer.add_scalar(\n",
    "        \"Recall\",\n",
    "        rec := recall_score(labels, preds_, average=\"weighted\"),\n",
    "        global_step=global_step,\n",
    "    )\n",
    "    writer.add_scalar(\n",
    "        \"F1\",\n",
    "        f1 := f1_score(labels, preds_, average=\"weighted\"),\n",
    "        global_step=global_step,\n",
    "    )\n",
    "    writer.close()\n",
    "    return ac, pr, rec, f1\n",
    "\n",
    "\n",
    "def plot_ConfusionMatrix(preds, labels, classes, title, writer, global_step=0):\n",
    "    cm = confusion_matrix(labels, np.argmax(preds, axis=1), normalize=\"true\")\n",
    "    fig = plt.figure(figsize=(6, 6))\n",
    "    ax = plt.subplot(111)\n",
    "    cax = ax.matshow(cm)\n",
    "    fig.colorbar(cax)\n",
    "    plt.xticks(range(len(classes)), classes, rotation=90)\n",
    "    plt.yticks(range(len(classes)), classes)\n",
    "    plt.title(f\"Model: {title}\")\n",
    "    plt.show()\n",
    "    writer.add_figure(\"ConfusionMatrix\", fig, global_step=global_step)\n",
    "    writer.close()\n",
    "    return cm"
   ]
  },
  {
   "cell_type": "code",
   "execution_count": 12,
   "metadata": {},
   "outputs": [
    {
     "name": "stderr",
     "output_type": "stream",
     "text": [
      "c:\\Users\\KHADGA JYOTH ALLI\\.conda\\envs\\gpu\\lib\\site-packages\\torchvision\\transforms\\v2\\_deprecated.py:43: UserWarning: The transform `ToTensor()` is deprecated and will be removed in a future release. Instead, please use `v2.Compose([v2.ToImage(), v2.ToDtype(torch.float32, scale=True)])`.\n",
      "  warnings.warn(\n"
     ]
    }
   ],
   "source": [
    "from torchvision.datasets import USPS\n",
    "from torchvision.transforms import v2 as tt\n",
    "from torch.utils.data import Dataset, DataLoader\n",
    "root_dir = r\"C:\\Users\\KHADGA JYOTH ALLI\\Desktop\\programming\\datasets\"\n",
    "dataset_train = USPS(root=root_dir, train=True, download=True, transform=tt.ToTensor())\n",
    "dataset_test = USPS(root=root_dir, train=False, download=True, transform=tt.ToTensor())\n"
   ]
  },
  {
   "cell_type": "code",
   "execution_count": 13,
   "metadata": {},
   "outputs": [],
   "source": [
    "classes  = np.unique(dataset_train.targets).astype(str).tolist()"
   ]
  },
  {
   "cell_type": "code",
   "execution_count": 14,
   "metadata": {},
   "outputs": [
    {
     "data": {
      "text/plain": [
       "['0', '1', '2', '3', '4', '5', '6', '7', '8', '9']"
      ]
     },
     "execution_count": 14,
     "metadata": {},
     "output_type": "execute_result"
    }
   ],
   "source": [
    "classes"
   ]
  },
  {
   "cell_type": "code",
   "execution_count": 15,
   "metadata": {},
   "outputs": [],
   "source": [
    "train_loader = DataLoader(dataset_train, batch_size=32, shuffle=True)\n",
    "test_loader = DataLoader(dataset_test, batch_size=32, shuffle=False)\n"
   ]
  },
  {
   "cell_type": "code",
   "execution_count": 16,
   "metadata": {},
   "outputs": [
    {
     "name": "stdout",
     "output_type": "stream",
     "text": [
      "out_channels: 8\n"
     ]
    },
    {
     "name": "stderr",
     "output_type": "stream",
     "text": [
      "  0%|          | 0/228 [00:00<?, ?it/s]"
     ]
    },
    {
     "name": "stderr",
     "output_type": "stream",
     "text": [
      "100%|██████████| 228/228 [00:02<00:00, 97.78it/s] \n"
     ]
    },
    {
     "name": "stdout",
     "output_type": "stream",
     "text": [
      "epoch: 0, train: {'loss': 1.9545015680202975, 'accuracy': 0.5043203950811195}, valid: {'accuracy': 0.5980633497238159, 'loss': 1.8601045608520508}\n"
     ]
    },
    {
     "name": "stderr",
     "output_type": "stream",
     "text": [
      "c:\\Users\\KHADGA JYOTH ALLI\\.conda\\envs\\gpu\\lib\\site-packages\\sklearn\\metrics\\_classification.py:1509: UndefinedMetricWarning: Precision is ill-defined and being set to 0.0 in labels with no predicted samples. Use `zero_division` parameter to control this behavior.\n",
      "  _warn_prf(average, modifier, f\"{metric.capitalize()} is\", len(result))\n"
     ]
    },
    {
     "name": "stdout",
     "output_type": "stream",
     "text": [
      "test accuracy: 0.5984055804683608, test loss: 1.8597495555877686\n",
      "Precision: 0.40081087506533025, Recall: 0.5984055804683608, F1: 0.47449619854186664\n",
      "--------------------\n"
     ]
    },
    {
     "data": {
      "image/png": "[encoded data removed]",
      "text/plain": [
       "<Figure size 600x600 with 2 Axes>"
      ]
     },
     "metadata": {},
     "output_type": "display_data"
    },
    {
     "name": "stdout",
     "output_type": "stream",
     "text": [
      "Average Accuracy: 0.5984055804683608, Average Loss: 1.8597495555877686, Average Precision: 0.40081087506533025, Average Recall: 0.5984055804683608\n",
      "out_channels: 16\n"
     ]
    },
    {
     "name": "stderr",
     "output_type": "stream",
     "text": [
      "100%|██████████| 228/228 [00:02<00:00, 105.17it/s]\n"
     ]
    },
    {
     "name": "stdout",
     "output_type": "stream",
     "text": [
      "epoch: 0, train: {'loss': 1.8213436532749787, 'accuracy': 0.6390069949743009}, valid: {'accuracy': 0.6794988512992859, 'loss': 1.7806648015975952}\n"
     ]
    },
    {
     "name": "stderr",
     "output_type": "stream",
     "text": [
      "c:\\Users\\KHADGA JYOTH ALLI\\.conda\\envs\\gpu\\lib\\site-packages\\sklearn\\metrics\\_classification.py:1509: UndefinedMetricWarning: Precision is ill-defined and being set to 0.0 in labels with no predicted samples. Use `zero_division` parameter to control this behavior.\n",
      "  _warn_prf(average, modifier, f\"{metric.capitalize()} is\", len(result))\n"
     ]
    },
    {
     "name": "stdout",
     "output_type": "stream",
     "text": [
      "test accuracy: 0.6796213253612357, test loss: 1.780538558959961\n",
      "Precision: 0.5208498965597463, Recall: 0.6796213253612357, F1: 0.5858121296335788\n",
      "--------------------\n"
     ]
    },
    {
     "data": {
      "image/png": "[encoded data removed]",
      "text/plain": [
       "<Figure size 600x600 with 2 Axes>"
      ]
     },
     "metadata": {},
     "output_type": "display_data"
    },
    {
     "name": "stdout",
     "output_type": "stream",
     "text": [
      "Average Accuracy: 1.2780269058295963, Average Loss: 3.6402881145477295, Average Precision: 0.9216607716250766, Average Recall: 1.2780269058295963\n",
      "out_channels: 32\n"
     ]
    },
    {
     "name": "stderr",
     "output_type": "stream",
     "text": [
      "100%|██████████| 228/228 [00:02<00:00, 105.79it/s]\n"
     ]
    },
    {
     "name": "stdout",
     "output_type": "stream",
     "text": [
      "epoch: 0, train: {'loss': 1.8860067829087084, 'accuracy': 0.5715265395039313}, valid: {'accuracy': 0.6214631199836731, 'loss': 1.8385117053985596}\n"
     ]
    },
    {
     "name": "stderr",
     "output_type": "stream",
     "text": [
      "c:\\Users\\KHADGA JYOTH ALLI\\.conda\\envs\\gpu\\lib\\site-packages\\sklearn\\metrics\\_classification.py:1509: UndefinedMetricWarning: Precision is ill-defined and being set to 0.0 in labels with no predicted samples. Use `zero_division` parameter to control this behavior.\n",
      "  _warn_prf(average, modifier, f\"{metric.capitalize()} is\", len(result))\n"
     ]
    },
    {
     "name": "stdout",
     "output_type": "stream",
     "text": [
      "test accuracy: 0.6213253612356752, test loss: 1.8386163711547852\n",
      "Precision: 0.43169592315549393, Recall: 0.6213253612356752, F1: 0.5041598340309588\n",
      "--------------------\n"
     ]
    },
    {
     "data": {
      "image/png": "[encoded data removed]",
      "text/plain": [
       "<Figure size 600x600 with 2 Axes>"
      ]
     },
     "metadata": {},
     "output_type": "display_data"
    },
    {
     "name": "stdout",
     "output_type": "stream",
     "text": [
      "Average Accuracy: 1.8993522670652716, Average Loss: 5.478904485702515, Average Precision: 1.3533566947805706, Average Recall: 1.8993522670652716\n",
      "out_channels: 64\n"
     ]
    },
    {
     "name": "stderr",
     "output_type": "stream",
     "text": [
      "100%|██████████| 228/228 [00:02<00:00, 102.41it/s]\n"
     ]
    },
    {
     "name": "stdout",
     "output_type": "stream",
     "text": [
      "epoch: 0, train: {'loss': 1.97208283835683, 'accuracy': 0.48690165962935505}, valid: {'accuracy': 0.6604554653167725, 'loss': 1.8006221055984497}\n"
     ]
    },
    {
     "name": "stderr",
     "output_type": "stream",
     "text": [
      "c:\\Users\\KHADGA JYOTH ALLI\\.conda\\envs\\gpu\\lib\\site-packages\\sklearn\\metrics\\_classification.py:1509: UndefinedMetricWarning: Precision is ill-defined and being set to 0.0 in labels with no predicted samples. Use `zero_division` parameter to control this behavior.\n",
      "  _warn_prf(average, modifier, f\"{metric.capitalize()} is\", len(result))\n"
     ]
    },
    {
     "name": "stdout",
     "output_type": "stream",
     "text": [
      "test accuracy: 0.6606875934230194, test loss: 1.8004103899002075\n",
      "Precision: 0.5303323068448162, Recall: 0.6606875934230194, F1: 0.5783085348281775\n",
      "--------------------\n"
     ]
    },
    {
     "data": {
      "image/png": "[encoded data removed]",
      "text/plain": [
       "<Figure size 600x600 with 2 Axes>"
      ]
     },
     "metadata": {},
     "output_type": "display_data"
    },
    {
     "name": "stdout",
     "output_type": "stream",
     "text": [
      "Average Accuracy: 2.560039860488291, Average Loss: 7.279314875602722, Average Precision: 1.8836890016253869, Average Recall: 2.560039860488291\n"
     ]
    }
   ],
   "source": [
    "from sklearn.pipeline import make_pipeline\n",
    "from sklearn.preprocessing import StandardScaler\n",
    "from torch.utils.tensorboard import SummaryWriter\n",
    "\n",
    "from sklearn.manifold import TSNE\n",
    "\n",
    "class custom_summary_writer:\n",
    "    def __init__(self, writer):\n",
    "        self.writer = writer\n",
    "\n",
    "    def log(self, metrics):\n",
    "        for key, value in metrics.items():\n",
    "            self.writer.add_scalar(key, *(value))\n",
    "\n",
    "\n",
    "n_splits = 1\n",
    "# kFold = KFold(n_splits=n_splits, random_state=42, shuffle=True)\n",
    "Avg_Accuracy = 0\n",
    "Avg_Loss = 0\n",
    "Avg_Precision = 0\n",
    "Avg_Recall = 0\n",
    "\n",
    "\n",
    "\n",
    "for out_channels in [8, 16, 32, 64]:\n",
    "    print(f\"out_channels: {out_channels}\")\n",
    "    title  = f\"SimpleCNN_chn_{out_channels}\"\n",
    "    writer = custom_summary_writer(SummaryWriter(f\"runs/USPS/{title}\"))\n",
    "\n",
    "    criterion = nn.CrossEntropyLoss()\n",
    "    device = torch.device(\"cuda\" if torch.cuda.is_available() else \"cpu\")\n",
    "\n",
    "\n",
    "    model = SimpleCNN(len(classes))\n",
    "    optimizer = optim.Adam(model.parameters(), lr=0.005)\n",
    "    history = train(\n",
    "        model,\n",
    "        train_loader,\n",
    "        test_loader,\n",
    "        optimizer,\n",
    "        criterion,\n",
    "        device,\n",
    "        epochs=1,\n",
    "        log_writer=writer,\n",
    "        verbose=True,\n",
    "        eval_metrics=[accuracy],\n",
    "    )\n",
    "\n",
    "    evaluation_test,test_preds, _, test_labels  = evaluate(\n",
    "                model, test_loader, criterion, device, eval_metrics=[accuracy], return_preds=True\n",
    "            )\n",
    "\n",
    "    loss_test = criterion(torch.tensor(test_preds), torch.tensor(test_labels)).item()\n",
    "    ac, pr, rec, f1 = acc_pr_rec(test_preds, test_labels, classes, writer.writer)\n",
    "\n",
    "\n",
    "    print(f\"test accuracy: {ac}, test loss: {loss_test}\")\n",
    "    print(f\"Precision: {pr}, Recall: {rec}, F1: {f1}\")\n",
    "    print(\"-\" * 20)\n",
    "    Avg_Accuracy += ac\n",
    "    Avg_Loss += loss_test\n",
    "    Avg_Precision += pr\n",
    "    Avg_Recall += rec\n",
    "\n",
    "    cm = plot_ConfusionMatrix(test_preds, test_labels, classes, title, writer.writer)\n",
    "\n",
    "    writer.writer.close()\n",
    "    print(\n",
    "    f\"Average Accuracy: {Avg_Accuracy/n_splits}, Average Loss: {Avg_Loss/n_splits}, Average Precision: {Avg_Precision/n_splits}, Average Recall: {Avg_Recall/n_splits}\"\n",
    "    )"
   ]
  }
 ],
 "metadata": {
  "kernelspec": {
   "display_name": "gpu",
   "language": "python",
   "name": "python3"
  },
  "language_info": {
   "codemirror_mode": {
    "name": "ipython",
    "version": 3
   },
   "file_extension": ".py",
   "mimetype": "text/x-python",
   "name": "python",
   "nbconvert_exporter": "python",
   "pygments_lexer": "ipython3",
   "version": "3.9.16"
  }
 },
 "nbformat": 4,
 "nbformat_minor": 2
}
